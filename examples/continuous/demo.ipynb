{
 "cells": [
  {
   "cell_type": "markdown",
   "id": "74d12915-f8d7-4402-8dbe-7e27382899be",
   "metadata": {},
   "source": [
    "# Genetic Algorithm Demonstration\n",
    "\n",
    "## Continuous Problem"
   ]
  },
  {
   "cell_type": "code",
   "execution_count": 1,
   "id": "0dca62e9-c318-4c63-b908-1f7b23e4b6fa",
   "metadata": {},
   "outputs": [],
   "source": [
    "def double_banana(x, peaks=(1.0, 1.5), offsets=(0.0, 6.0), scales=(0.1, 0.2), curvatures=(-1, 1)):\n",
    "    x1, x2 = x\n",
    "    bananas = [\n",
    "        peak * np.exp(-scale * ((x2 - curvature * (x1 - offset)**2) ** 2 + (x1 - offset - 2) ** 2))\n",
    "        for peak, offset, scale, curvature in zip(peaks, offsets, scales, curvatures)\n",
    "    ]\n",
    "    return sum(bananas)"
   ]
  },
  {
   "cell_type": "code",
   "execution_count": 2,
   "id": "e332d799-7e0f-4b07-9186-12055b929142",
   "metadata": {},
   "outputs": [
    {
     "ename": "NameError",
     "evalue": "name 'np' is not defined",
     "output_type": "error",
     "traceback": [
      "\u001b[0;31m---------------------------------------------------------------------------\u001b[0m",
      "\u001b[0;31mNameError\u001b[0m                                 Traceback (most recent call last)",
      "Cell \u001b[0;32mIn[2], line 1\u001b[0m\n\u001b[0;32m----> 1\u001b[0m \u001b[38;5;28;43;01mclass\u001b[39;49;00m\u001b[43m \u001b[49m\u001b[38;5;21;43;01mPosterior\u001b[39;49;00m\u001b[43m:\u001b[49m\n\u001b[1;32m      3\u001b[0m \u001b[43m    \u001b[49m\u001b[38;5;28;43;01mdef\u001b[39;49;00m\u001b[43m \u001b[49m\u001b[38;5;21;43m__init__\u001b[39;49m\u001b[43m(\u001b[49m\u001b[38;5;28;43mself\u001b[39;49m\u001b[43m,\u001b[49m\u001b[43m \u001b[49m\u001b[43mdistribution\u001b[49m\u001b[43m)\u001b[49m\u001b[43m:\u001b[49m\n\u001b[1;32m      4\u001b[0m \u001b[43m        \u001b[49m\u001b[38;5;28;43mself\u001b[39;49m\u001b[38;5;241;43m.\u001b[39;49m\u001b[43mdistribution\u001b[49m\u001b[43m \u001b[49m\u001b[38;5;241;43m=\u001b[39;49m\u001b[43m \u001b[49m\u001b[43mdistribution\u001b[49m\n",
      "Cell \u001b[0;32mIn[2], line 22\u001b[0m, in \u001b[0;36mPosterior\u001b[0;34m()\u001b[0m\n\u001b[1;32m      7\u001b[0m \u001b[38;5;250m    \u001b[39m\u001b[38;5;124;03m\"\"\"\u001b[39;00m\n\u001b[1;32m      8\u001b[0m \u001b[38;5;124;03m    Evaluate the posterior distribution for given model parameters and observed data.\u001b[39;00m\n\u001b[1;32m      9\u001b[0m \n\u001b[0;32m   (...)\u001b[0m\n\u001b[1;32m     18\u001b[0m \u001b[38;5;124;03m        The posterior probability distribution for the given model parameters.\u001b[39;00m\n\u001b[1;32m     19\u001b[0m \u001b[38;5;124;03m    \"\"\"\u001b[39;00m\n\u001b[1;32m     20\u001b[0m     \u001b[38;5;28;01mreturn\u001b[39;00m \u001b[38;5;28mself\u001b[39m\u001b[38;5;241m.\u001b[39mdistribution(x)\n\u001b[0;32m---> 22\u001b[0m \u001b[38;5;28;01mdef\u001b[39;00m \u001b[38;5;21mplot\u001b[39m(\u001b[38;5;28mself\u001b[39m, ax\u001b[38;5;241m=\u001b[39m\u001b[38;5;28;01mNone\u001b[39;00m, x1_range\u001b[38;5;241m=\u001b[39m\u001b[43mnp\u001b[49m\u001b[38;5;241m.\u001b[39mlinspace(\u001b[38;5;241m-\u001b[39m\u001b[38;5;241m10\u001b[39m, \u001b[38;5;241m10\u001b[39m, \u001b[38;5;241m1000\u001b[39m), x2_range\u001b[38;5;241m=\u001b[39mnp\u001b[38;5;241m.\u001b[39mlinspace(\u001b[38;5;241m-\u001b[39m\u001b[38;5;241m10\u001b[39m, \u001b[38;5;241m10\u001b[39m, \u001b[38;5;241m1000\u001b[39m)):\n\u001b[1;32m     23\u001b[0m \u001b[38;5;250m    \u001b[39m\u001b[38;5;124;03m\"\"\"\u001b[39;00m\n\u001b[1;32m     24\u001b[0m \u001b[38;5;124;03m    Plot the full posterior distribution\u001b[39;00m\n\u001b[1;32m     25\u001b[0m \u001b[38;5;124;03m    \"\"\"\u001b[39;00m\n\u001b[1;32m     26\u001b[0m     X1, X2 \u001b[38;5;241m=\u001b[39m np\u001b[38;5;241m.\u001b[39mmeshgrid(x1_range, x2_range)\n",
      "\u001b[0;31mNameError\u001b[0m: name 'np' is not defined"
     ]
    }
   ],
   "source": [
    "class Posterior:\n",
    "\n",
    "    def __init__(self, distribution):\n",
    "        self.distribution = distribution\n",
    "\n",
    "    def evaluate(self, x):\n",
    "        \"\"\"\n",
    "        Evaluate the posterior distribution for given model parameters and observed data.\n",
    "\n",
    "        Parameters\n",
    "        ----------\n",
    "        x : float or array-like\n",
    "            The value(s) of the model parameters.\n",
    "\n",
    "        Returns\n",
    "        -------\n",
    "        float or array-like\n",
    "            The posterior probability distribution for the given model parameters.\n",
    "        \"\"\"\n",
    "        return self.distribution(x)\n",
    "\n",
    "    def plot(self, ax=None, x1_range=np.linspace(-10, 10, 1000), x2_range=np.linspace(-10, 10, 1000)):\n",
    "        \"\"\"\n",
    "        Plot the full posterior distribution\n",
    "        \"\"\"\n",
    "        X1, X2 = np.meshgrid(x1_range, x2_range)\n",
    "        Z = np.array([[self.evaluate((x1, x2)) for x1 in x1_range] for x2 in x2_range])\n",
    "        Z = np.where(Z > 0.01, Z, np.nan)  # Mask values below a threshold\n",
    "\n",
    "        if ax is None:\n",
    "            fig, ax = plt.subplots(figsize=(10, 8), constrained_layout=True)\n",
    "\n",
    "        ax.contour(X1, X2, Z, levels=40, cmap='viridis')\n",
    "        ax.set_xlabel('X1')\n",
    "        ax.set_ylabel('X2')\n",
    "        plt.gca().set_frame_on(False)\n",
    "        plt.xticks([])\n",
    "        plt.yticks([])\n",
    "        return ax"
   ]
  },
  {
   "cell_type": "code",
   "execution_count": null,
   "id": "c6b57248-df5a-43aa-80c2-46d307661602",
   "metadata": {},
   "outputs": [],
   "source": [
    "posterior = Posterior(distribution=double_bannana)"
   ]
  },
  {
   "cell_type": "code",
   "execution_count": null,
   "id": "1a45bd1c-8b3f-4161-ad7b-915364ea531b",
   "metadata": {},
   "outputs": [],
   "source": [
    "from design import Design\n",
    "import pyga\n",
    "\n",
    "population_size = 100\n",
    "individuals = [Design(genes=[np.random.uniform(-5, 15), np.random.uniform(-80, 30)], posterior=posterior) \n",
    "               for _ in range(population_size)]\n",
    "population = pyga.Population(individuals)\n",
    "\n",
    "ga = pyga.GeneticAlgorithm(population, \n",
    "                           num_generations=10, \n",
    "                           num_parents=8,\n",
    "                           mutation_probability=0.05,\n",
    "                           animate=True)\n",
    "ga.evolve()\n",
    "ga.plot_fitness()\n",
    "ga.animation.generate(posterior)"
   ]
  }
 ],
 "metadata": {
  "kernelspec": {
   "display_name": "Python 3 (ipykernel)",
   "language": "python",
   "name": "python3"
  },
  "language_info": {
   "codemirror_mode": {
    "name": "ipython",
    "version": 3
   },
   "file_extension": ".py",
   "mimetype": "text/x-python",
   "name": "python",
   "nbconvert_exporter": "python",
   "pygments_lexer": "ipython3",
   "version": "3.11.6"
  }
 },
 "nbformat": 4,
 "nbformat_minor": 5
}
