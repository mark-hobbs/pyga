{
 "cells": [
  {
   "cell_type": "markdown",
   "id": "74d12915-f8d7-4402-8dbe-7e27382899be",
   "metadata": {},
   "source": [
    "# Genetic Algorithm Demonstration\n",
    "\n",
    "## Continuous Problem"
   ]
  },
  {
   "cell_type": "code",
   "execution_count": 1,
   "id": "9077550c-0ea9-4673-b3b4-fa0b26fc2409",
   "metadata": {},
   "outputs": [],
   "source": [
    "import numpy as np\n",
    "\n",
    "import pyga\n",
    "\n",
    "from design import Design"
   ]
  },
  {
   "cell_type": "code",
   "execution_count": 2,
   "id": "0dca62e9-c318-4c63-b908-1f7b23e4b6fa",
   "metadata": {},
   "outputs": [],
   "source": [
    "def double_banana(x, peaks=(1.0, 1.5), offsets=(0.0, 6.0), scales=(0.1, 0.2), curvatures=(-1, 1)):\n",
    "    x1, x2 = x\n",
    "    bananas = [\n",
    "        peak * np.exp(-scale * ((x2 - curvature * (x1 - offset)**2) ** 2 + (x1 - offset - 2) ** 2))\n",
    "        for peak, offset, scale, curvature in zip(peaks, offsets, scales, curvatures)\n",
    "    ]\n",
    "    return sum(bananas)"
   ]
  },
  {
   "cell_type": "code",
   "execution_count": 3,
   "id": "e332d799-7e0f-4b07-9186-12055b929142",
   "metadata": {},
   "outputs": [],
   "source": [
    "class Posterior:\n",
    "\n",
    "    def __init__(self, distribution):\n",
    "        self.distribution = distribution\n",
    "\n",
    "    def evaluate(self, x):\n",
    "        \"\"\"\n",
    "        Evaluate the posterior distribution for given model parameters and observed data.\n",
    "\n",
    "        Parameters\n",
    "        ----------\n",
    "        x : float or array-like\n",
    "            The value(s) of the model parameters.\n",
    "\n",
    "        Returns\n",
    "        -------\n",
    "        float or array-like\n",
    "            The posterior probability distribution for the given model parameters.\n",
    "        \"\"\"\n",
    "        return self.distribution(x)\n",
    "\n",
    "    def plot(self, ax=None, x1_range=np.linspace(-10, 10, 1000), x2_range=np.linspace(-10, 10, 1000)):\n",
    "        \"\"\"\n",
    "        Plot the full posterior distribution\n",
    "        \"\"\"\n",
    "        X1, X2 = np.meshgrid(x1_range, x2_range)\n",
    "        Z = np.array([[self.evaluate((x1, x2)) for x1 in x1_range] for x2 in x2_range])\n",
    "        Z = np.where(Z > 0.01, Z, np.nan)  # Mask values below a threshold\n",
    "\n",
    "        if ax is None:\n",
    "            fig, ax = plt.subplots(figsize=(10, 8), constrained_layout=True)\n",
    "\n",
    "        ax.contour(X1, X2, Z, levels=40, cmap='viridis')\n",
    "        ax.set_xlabel('X1')\n",
    "        ax.set_ylabel('X2')\n",
    "        plt.gca().set_frame_on(False)\n",
    "        plt.xticks([])\n",
    "        plt.yticks([])\n",
    "        return ax"
   ]
  },
  {
   "cell_type": "code",
   "execution_count": 4,
   "id": "c6b57248-df5a-43aa-80c2-46d307661602",
   "metadata": {},
   "outputs": [],
   "source": [
    "posterior = Posterior(distribution=double_banana)\n",
    "Design.set_posterior(posterior)"
   ]
  },
  {
   "cell_type": "code",
   "execution_count": 11,
   "id": "1a45bd1c-8b3f-4161-ad7b-915364ea531b",
   "metadata": {},
   "outputs": [
    {
     "name": "stderr",
     "output_type": "stream",
     "text": [
      "Evolution: 100%|██████████████████████████████████████████████████████████████████████████████████████████████████████████████████████| 10/10 [00:00<00:00, 528.65it/s]\n"
     ]
    },
    {
     "data": {
      "image/png": "[encoded data removed]",
      "text/plain": [
       "<Figure size 800x400 with 1 Axes>"
      ]
     },
     "metadata": {},
     "output_type": "display_data"
    }
   ],
   "source": [
    "population_size = 100\n",
    "individuals = [Design(genes=[np.random.uniform(-5, 15), np.random.uniform(-80, 30)]) for _ in range(population_size)]\n",
    "population = pyga.Population(individuals)\n",
    "\n",
    "ga = pyga.GeneticAlgorithm(population, \n",
    "                           num_generations=10, \n",
    "                           num_parents=8,\n",
    "                           mutation_probability=0.05,\n",
    "                           animate=False)\n",
    "ga.evolve()\n",
    "ga.plot_fitness()"
   ]
  },
  {
   "cell_type": "code",
   "execution_count": 12,
   "id": "020cdce0-6691-487f-83c6-9556084f9a9c",
   "metadata": {
    "scrolled": true
   },
   "outputs": [
    {
     "name": "stdout",
     "output_type": "stream",
     "text": [
      "[7.95724675 3.82090316]\n",
      "[7.97040779 3.85663037]\n",
      "[7.96272302 3.86177378]\n",
      "[7.96719018 3.8353155 ]\n",
      "[7.97694305 3.88660971]\n",
      "[7.87260424 3.84565073]\n",
      "[7.97411662 3.90241028]\n",
      "[7.97277351 3.85658342]\n",
      "[7.9609559  3.86126142]\n",
      "[7.97290599 3.90823028]\n",
      "[8.07576457 3.85660875]\n",
      "[7.95644029 3.82950022]\n",
      "[7.9818869  3.82310112]\n",
      "[7.97009868 3.85673805]\n",
      "[7.97707266 3.84569925]\n",
      "[7.95991955 3.84461649]\n",
      "[7.96376797 3.84586231]\n",
      "[7.97014767 3.85795005]\n",
      "[7.89674151 3.83126079]\n",
      "[7.9550115  3.82774739]\n",
      "[7.96031404 3.82188347]\n",
      "[7.96954822 3.82456112]\n",
      "[7.96719778 3.8550918 ]\n",
      "[7.96336712 3.8581782 ]\n",
      "[7.95227356 3.8645697 ]\n",
      "[7.97313691 3.9009551 ]\n",
      "[7.95785342 3.85465615]\n",
      "[7.97136613 3.85749295]\n",
      "[7.95870613 3.83316548]\n",
      "[7.96806576 3.85607322]\n",
      "[7.95071467 3.85988381]\n",
      "[7.95835486 3.85008141]\n",
      "[7.95385327 3.82978578]\n",
      "[7.9775994  3.90679201]\n",
      "[7.9618342  3.89048174]\n",
      "[7.98877088 3.84074603]\n",
      "[7.97186758 3.85695509]\n",
      "[7.9590794  3.86685027]\n",
      "[7.9654678  3.86935634]\n",
      "[7.97107546 3.85965933]\n",
      "[7.97094161 3.86230253]\n",
      "[7.9625158  3.82813332]\n",
      "[7.97101718 3.85372422]\n",
      "[7.98853209 3.85493533]\n",
      "[7.96117376 3.83877926]\n",
      "[7.96156933 3.81652233]\n",
      "[7.95946102 3.8565127 ]\n",
      "[7.9611616 3.8463341]\n",
      "[7.95782881 3.84377211]\n",
      "[7.96209316 3.83893855]\n",
      "[7.95909471 3.84348564]\n",
      "[7.96551071 3.8294359 ]\n",
      "[7.96063183 3.83999696]\n",
      "[7.96172561 3.84600127]\n",
      "[7.95490208 3.82958851]\n",
      "[7.95947039 3.82739477]\n",
      "[7.97559823 3.82386894]\n",
      "[7.97488316 3.84871206]\n",
      "[7.97309669 3.83420711]\n",
      "[7.96875105 3.86451341]\n",
      "[7.95783235 3.84182682]\n",
      "[7.98702246 3.88369726]\n",
      "[7.9698813  3.86970247]\n",
      "[7.97644053 3.91126686]\n",
      "[7.97335197 3.85925268]\n",
      "[7.96895447 3.85702064]\n",
      "[7.96636383 3.84276074]\n",
      "[7.97022212 3.85094129]\n",
      "[7.96856624 3.85582675]\n",
      "[7.95700993 3.84909948]\n",
      "[7.96835908 3.81244222]\n",
      "[7.95882607 3.83330395]\n",
      "[7.95363205 3.85188586]\n",
      "[7.9652525 3.8543195]\n",
      "[7.96782369 3.85524353]\n",
      "[7.94459354 3.8134316 ]\n",
      "[7.97621248 3.82445744]\n",
      "[7.96821445 4.06388804]\n",
      "[7.96816262 3.85675259]\n",
      "[7.97980435 3.86654175]\n",
      "[7.95712719 3.85396903]\n",
      "[7.96089905 3.85229317]\n",
      "[7.97641818 3.84262326]\n",
      "[7.97758976 3.8361751 ]\n",
      "[7.96044862 3.84608242]\n",
      "[7.98168761 3.88577969]\n",
      "[7.96671073 3.84346991]\n",
      "[7.96670298 3.84028931]\n",
      "[7.96747752 3.85333602]\n",
      "[7.95987547 3.78478893]\n",
      "[7.96331591 3.8278264 ]\n",
      "[7.95623602 3.83931911]\n",
      "[7.97888564 3.85441119]\n",
      "[7.96108981 3.84656913]\n",
      "[7.96477202 3.80895526]\n",
      "[7.97094799 3.84817059]\n",
      "[7.95560683 3.84618265]\n",
      "[7.96097396 3.8387212 ]\n",
      "[7.95907542 3.85455737]\n",
      "[7.96704763 3.84293529]\n"
     ]
    }
   ],
   "source": [
    "for individual in population.individuals:\n",
    "    print(individual.genes)"
   ]
  }
 ],
 "metadata": {
  "kernelspec": {
   "display_name": "Python 3 (ipykernel)",
   "language": "python",
   "name": "python3"
  },
  "language_info": {
   "codemirror_mode": {
    "name": "ipython",
    "version": 3
   },
   "file_extension": ".py",
   "mimetype": "text/x-python",
   "name": "python",
   "nbconvert_exporter": "python",
   "pygments_lexer": "ipython3",
   "version": "3.11.6"
  }
 },
 "nbformat": 4,
 "nbformat_minor": 5
}
